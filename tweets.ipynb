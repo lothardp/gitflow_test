{
 "cells": [
  {
   "cell_type": "code",
   "execution_count": 41,
   "id": "53e1ec02-0e95-40fb-a27e-0656e285a2f1",
   "metadata": {},
   "outputs": [],
   "source": [
    "import pandas as pd\n",
    "import numpy as np\n",
    "import json"
   ]
  },
  {
   "cell_type": "markdown",
   "id": "b35e0499-6468-4b6b-aa90-89bc28d15a80",
   "metadata": {
    "tags": []
   },
   "source": [
    "# Load Data\n",
    "### We load the data from the json (only required columns) and create a pandas dataframe"
   ]
  },
  {
   "cell_type": "code",
   "execution_count": 112,
   "id": "1b761c35-9232-41ca-aded-401a58984902",
   "metadata": {},
   "outputs": [],
   "source": [
    "path = \"archive/farmers-protest-tweets-2021-03-5.json\"\n",
    "tweets = []\n",
    "with open(path, \"r\") as f:\n",
    "    for l in f.readlines():\n",
    "        t = json.loads(l)\n",
    "        clean_t = {\n",
    "            \"url\": t[\"url\"],\n",
    "            \"date\": t[\"date\"][:10],\n",
    "            \"content\": t[\"content\"],\n",
    "            \"username\": t[\"user\"][\"username\"],\n",
    "            \"userid\": t[\"user\"][\"id\"],\n",
    "            \"retweetCount\": t[\"retweetCount\"]\n",
    "        }\n",
    "        tweets.append(clean_t)        "
   ]
  },
  {
   "cell_type": "code",
   "execution_count": 113,
   "id": "87a4b29f-31b6-4ece-be2f-cdd60eae002f",
   "metadata": {},
   "outputs": [],
   "source": [
    "df = pd.DataFrame(tweets)"
   ]
  },
  {
   "cell_type": "markdown",
   "id": "f2569cf6-e295-45f7-b90d-64ce54009bcf",
   "metadata": {},
   "source": [
    "# 1. Top 10 most retweeted tweets"
   ]
  },
  {
   "cell_type": "code",
   "execution_count": 114,
   "id": "a916cfef-e23d-4762-a2d7-24deef0994c3",
   "metadata": {},
   "outputs": [],
   "source": [
    "def most_retweeted(n=10):\n",
    "    return df.sort_values(\"retweetCount\", ascending=False).head(10)"
   ]
  },
  {
   "cell_type": "markdown",
   "id": "598dddcd-9fd5-48ba-a006-60083a8afd71",
   "metadata": {},
   "source": [
    "# 2. Top 10 users by tweet quantity"
   ]
  },
  {
   "cell_type": "code",
   "execution_count": 115,
   "id": "4bc25048-af4f-47be-bb79-7cf084a5b4e6",
   "metadata": {},
   "outputs": [],
   "source": [
    "def most_tweets_users(n=10):\n",
    "    userid = df.groupby(\"userid\").count().sort_values(\"url\", ascending=False).index[0:n]\n",
    "    return df[df[\"userid\"].isin(userid)].groupby(\"username\").count().sort_values(\"url\", ascending=False)[\"url\"]"
   ]
  },
  {
   "cell_type": "markdown",
   "id": "f19c8a02-fc60-4394-8cb1-7fdecb0b4be8",
   "metadata": {},
   "source": [
    "# 3. Top 10 days by tweet quantity"
   ]
  },
  {
   "cell_type": "code",
   "execution_count": 121,
   "id": "1eb90fe8-7f70-4a8a-bf71-71ba3dc00476",
   "metadata": {},
   "outputs": [],
   "source": [
    "def most_tweets_days(n=10):\n",
    "    dates = df.groupby(\"date\").count().sort_values(\"url\", ascending=False)[\"url\"].iloc[:n]\n",
    "    return dates"
   ]
  },
  {
   "cell_type": "markdown",
   "id": "f4330033-e405-491c-b122-b5d7b9d7a023",
   "metadata": {},
   "source": [
    "# Main Function"
   ]
  },
  {
   "cell_type": "code",
   "execution_count": 104,
   "id": "03b0546a-9578-4324-b3b9-56d3b1010955",
   "metadata": {},
   "outputs": [],
   "source": [
    "def main(fun=None, n=10):\n",
    "    \"\"\"You should choose what function to run\"\"\"\n",
    "    if not fun:\n",
    "        print((\"You have to choose what function to call:\" \n",
    "         \"- most_retweeted\"))\n",
    "    if fun == \"most_retweeted\":\n",
    "        return most_retweeted(n)\n",
    "    if fun == \"most_tweets_users\":\n",
    "        return most_tweets_users()\n",
    "    if fun == \"most_tweets_days\""
   ]
  },
  {
   "cell_type": "code",
   "execution_count": 123,
   "id": "9ab4ba91-015c-444c-b459-d45a61f4c8b1",
   "metadata": {},
   "outputs": [
    {
     "data": {
      "text/html": [
       "<div>\n",
       "<style scoped>\n",
       "    .dataframe tbody tr th:only-of-type {\n",
       "        vertical-align: middle;\n",
       "    }\n",
       "\n",
       "    .dataframe tbody tr th {\n",
       "        vertical-align: top;\n",
       "    }\n",
       "\n",
       "    .dataframe thead th {\n",
       "        text-align: right;\n",
       "    }\n",
       "</style>\n",
       "<table border=\"1\" class=\"dataframe\">\n",
       "  <thead>\n",
       "    <tr style=\"text-align: right;\">\n",
       "      <th></th>\n",
       "      <th>url</th>\n",
       "      <th>date</th>\n",
       "      <th>content</th>\n",
       "      <th>username</th>\n",
       "      <th>userid</th>\n",
       "      <th>retweetCount</th>\n",
       "    </tr>\n",
       "  </thead>\n",
       "  <tbody>\n",
       "    <tr>\n",
       "      <th>408128</th>\n",
       "      <td>https://twitter.com/rihanna/status/13566258896...</td>\n",
       "      <td>2021-02-02</td>\n",
       "      <td>why aren’t we talking about this?! #FarmersPro...</td>\n",
       "      <td>rihanna</td>\n",
       "      <td>79293791</td>\n",
       "      <td>315547</td>\n",
       "    </tr>\n",
       "    <tr>\n",
       "      <th>395142</th>\n",
       "      <td>https://twitter.com/GretaThunberg/status/13566...</td>\n",
       "      <td>2021-02-02</td>\n",
       "      <td>We stand in solidarity with the #FarmersProtes...</td>\n",
       "      <td>GretaThunberg</td>\n",
       "      <td>1006419421244678144</td>\n",
       "      <td>103957</td>\n",
       "    </tr>\n",
       "    <tr>\n",
       "      <th>266196</th>\n",
       "      <td>https://twitter.com/GretaThunberg/status/13572...</td>\n",
       "      <td>2021-02-04</td>\n",
       "      <td>I still #StandWithFarmers and support their pe...</td>\n",
       "      <td>GretaThunberg</td>\n",
       "      <td>1006419421244678144</td>\n",
       "      <td>67694</td>\n",
       "    </tr>\n",
       "    <tr>\n",
       "      <th>366579</th>\n",
       "      <td>https://twitter.com/miakhalifa/status/13568483...</td>\n",
       "      <td>2021-02-03</td>\n",
       "      <td>“Paid actors,” huh? Quite the casting director...</td>\n",
       "      <td>miakhalifa</td>\n",
       "      <td>2835653131</td>\n",
       "      <td>35921</td>\n",
       "    </tr>\n",
       "    <tr>\n",
       "      <th>372793</th>\n",
       "      <td>https://twitter.com/miakhalifa/status/13568277...</td>\n",
       "      <td>2021-02-03</td>\n",
       "      <td>What in the human rights violations is going o...</td>\n",
       "      <td>miakhalifa</td>\n",
       "      <td>2835653131</td>\n",
       "      <td>26972</td>\n",
       "    </tr>\n",
       "    <tr>\n",
       "      <th>314192</th>\n",
       "      <td>https://twitter.com/TeamJuJu/status/1357048037...</td>\n",
       "      <td>2021-02-03</td>\n",
       "      <td>Happy to share that I’ve donated $10,000 to pr...</td>\n",
       "      <td>TeamJuJu</td>\n",
       "      <td>733170759829327874</td>\n",
       "      <td>23251</td>\n",
       "    </tr>\n",
       "    <tr>\n",
       "      <th>215034</th>\n",
       "      <td>https://twitter.com/BobBlackman/status/1357755...</td>\n",
       "      <td>2021-02-05</td>\n",
       "      <td>There has been much social media coverage arou...</td>\n",
       "      <td>BobBlackman</td>\n",
       "      <td>805185025</td>\n",
       "      <td>20132</td>\n",
       "    </tr>\n",
       "    <tr>\n",
       "      <th>398011</th>\n",
       "      <td>https://twitter.com/vanessa_vash/status/135668...</td>\n",
       "      <td>2021-02-02</td>\n",
       "      <td>Farmers feed the world. Fight for them. Protec...</td>\n",
       "      <td>vanessa_vash</td>\n",
       "      <td>1134059457191776257</td>\n",
       "      <td>18744</td>\n",
       "    </tr>\n",
       "    <tr>\n",
       "      <th>325261</th>\n",
       "      <td>https://twitter.com/kylekuzma/status/135700972...</td>\n",
       "      <td>2021-02-03</td>\n",
       "      <td>Should be talking about this! #FarmersProtest\\...</td>\n",
       "      <td>kylekuzma</td>\n",
       "      <td>272616327</td>\n",
       "      <td>17368</td>\n",
       "    </tr>\n",
       "    <tr>\n",
       "      <th>163689</th>\n",
       "      <td>https://twitter.com/AmandaCerny/status/1359013...</td>\n",
       "      <td>2021-02-09</td>\n",
       "      <td>To all of my influencer/celeb friends- read up...</td>\n",
       "      <td>AmandaCerny</td>\n",
       "      <td>104856942</td>\n",
       "      <td>15677</td>\n",
       "    </tr>\n",
       "  </tbody>\n",
       "</table>\n",
       "</div>"
      ],
      "text/plain": [
       "                                                      url        date  \\\n",
       "408128  https://twitter.com/rihanna/status/13566258896...  2021-02-02   \n",
       "395142  https://twitter.com/GretaThunberg/status/13566...  2021-02-02   \n",
       "266196  https://twitter.com/GretaThunberg/status/13572...  2021-02-04   \n",
       "366579  https://twitter.com/miakhalifa/status/13568483...  2021-02-03   \n",
       "372793  https://twitter.com/miakhalifa/status/13568277...  2021-02-03   \n",
       "314192  https://twitter.com/TeamJuJu/status/1357048037...  2021-02-03   \n",
       "215034  https://twitter.com/BobBlackman/status/1357755...  2021-02-05   \n",
       "398011  https://twitter.com/vanessa_vash/status/135668...  2021-02-02   \n",
       "325261  https://twitter.com/kylekuzma/status/135700972...  2021-02-03   \n",
       "163689  https://twitter.com/AmandaCerny/status/1359013...  2021-02-09   \n",
       "\n",
       "                                                  content       username  \\\n",
       "408128  why aren’t we talking about this?! #FarmersPro...        rihanna   \n",
       "395142  We stand in solidarity with the #FarmersProtes...  GretaThunberg   \n",
       "266196  I still #StandWithFarmers and support their pe...  GretaThunberg   \n",
       "366579  “Paid actors,” huh? Quite the casting director...     miakhalifa   \n",
       "372793  What in the human rights violations is going o...     miakhalifa   \n",
       "314192  Happy to share that I’ve donated $10,000 to pr...       TeamJuJu   \n",
       "215034  There has been much social media coverage arou...    BobBlackman   \n",
       "398011  Farmers feed the world. Fight for them. Protec...   vanessa_vash   \n",
       "325261  Should be talking about this! #FarmersProtest\\...      kylekuzma   \n",
       "163689  To all of my influencer/celeb friends- read up...    AmandaCerny   \n",
       "\n",
       "                     userid  retweetCount  \n",
       "408128             79293791        315547  \n",
       "395142  1006419421244678144        103957  \n",
       "266196  1006419421244678144         67694  \n",
       "366579           2835653131         35921  \n",
       "372793           2835653131         26972  \n",
       "314192   733170759829327874         23251  \n",
       "215034            805185025         20132  \n",
       "398011  1134059457191776257         18744  \n",
       "325261            272616327         17368  \n",
       "163689            104856942         15677  "
      ]
     },
     "execution_count": 123,
     "metadata": {},
     "output_type": "execute_result"
    }
   ],
   "source": [
    "main(\"most_retweeted\")\n",
    "main(\"most_tweets_users\")\n",
    "main(\"most_\")"
   ]
  },
  {
   "cell_type": "code",
   "execution_count": null,
   "id": "c32cc6b6-3f67-403b-af37-fc71b17bb656",
   "metadata": {},
   "outputs": [],
   "source": []
  }
 ],
 "metadata": {
  "kernelspec": {
   "display_name": "Python 3 (ipykernel)",
   "language": "python",
   "name": "python3"
  },
  "language_info": {
   "codemirror_mode": {
    "name": "ipython",
    "version": 3
   },
   "file_extension": ".py",
   "mimetype": "text/x-python",
   "name": "python",
   "nbconvert_exporter": "python",
   "pygments_lexer": "ipython3",
   "version": "3.7.3"
  }
 },
 "nbformat": 4,
 "nbformat_minor": 5
}
