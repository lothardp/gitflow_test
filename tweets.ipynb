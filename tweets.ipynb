{
 "cells": [
  {
   "cell_type": "code",
   "execution_count": 1,
   "id": "53e1ec02-0e95-40fb-a27e-0656e285a2f1",
   "metadata": {},
   "outputs": [],
   "source": [
    "import pandas as pd\n",
    "import numpy as np\n",
    "import json"
   ]
  },
  {
   "cell_type": "markdown",
   "id": "b35e0499-6468-4b6b-aa90-89bc28d15a80",
   "metadata": {
    "tags": []
   },
   "source": [
    "# Load Data\n",
    "### We load the data from the json (only required columns) and create a pandas dataframe"
   ]
  },
  {
   "cell_type": "code",
   "execution_count": 2,
   "id": "1b761c35-9232-41ca-aded-401a58984902",
   "metadata": {},
   "outputs": [],
   "source": [
    "path = \"archive/farmers-protest-tweets-2021-03-5.json\"\n",
    "tweets = []\n",
    "with open(path, \"r\") as f:\n",
    "    for l in f.readlines():\n",
    "        t = json.loads(l)\n",
    "        clean_t = {\n",
    "            \"url\": t[\"url\"],\n",
    "            \"date\": t[\"date\"][:10],\n",
    "            \"content\": t[\"content\"],\n",
    "            \"username\": t[\"user\"][\"username\"],\n",
    "            \"userid\": t[\"user\"][\"id\"],\n",
    "            \"retweetCount\": t[\"retweetCount\"]\n",
    "        }\n",
    "        tweets.append(clean_t)        "
   ]
  },
  {
   "cell_type": "code",
   "execution_count": 3,
   "id": "87a4b29f-31b6-4ece-be2f-cdd60eae002f",
   "metadata": {},
   "outputs": [],
   "source": [
    "df = pd.DataFrame(tweets)"
   ]
  },
  {
   "cell_type": "markdown",
   "id": "f2569cf6-e295-45f7-b90d-64ce54009bcf",
   "metadata": {},
   "source": [
    "# 1. Top 10 most retweeted tweets"
   ]
  },
  {
   "cell_type": "code",
   "execution_count": 4,
   "id": "a916cfef-e23d-4762-a2d7-24deef0994c3",
   "metadata": {},
   "outputs": [],
   "source": [
    "def most_retweeted(n=10):\n",
    "    return df.sort_values(\"retweetCount\", ascending=False).head(10)"
   ]
  },
  {
   "cell_type": "markdown",
   "id": "598dddcd-9fd5-48ba-a006-60083a8afd71",
   "metadata": {},
   "source": [
    "# 2. Top 10 users by tweet quantity"
   ]
  },
  {
   "cell_type": "code",
   "execution_count": 5,
   "id": "4bc25048-af4f-47be-bb79-7cf084a5b4e6",
   "metadata": {},
   "outputs": [],
   "source": [
    "def most_tweets_users(n=10):\n",
    "    userid = df.groupby(\"userid\").count().sort_values(\"url\", ascending=False).index[0:n]\n",
    "    return df[df[\"userid\"].isin(userid)].groupby(\"username\").count().sort_values(\"url\", ascending=False)[\"url\"]"
   ]
  },
  {
   "cell_type": "markdown",
   "id": "f19c8a02-fc60-4394-8cb1-7fdecb0b4be8",
   "metadata": {},
   "source": [
    "# 3. Top 10 days by tweet quantity"
   ]
  },
  {
   "cell_type": "code",
   "execution_count": 6,
   "id": "1eb90fe8-7f70-4a8a-bf71-71ba3dc00476",
   "metadata": {},
   "outputs": [],
   "source": [
    "def most_tweets_days(n=10):\n",
    "    dates = df.groupby(\"date\").count().sort_values(\"url\", ascending=False)[\"url\"]\n",
    "    return dates.iloc[:n]"
   ]
  },
  {
   "cell_type": "markdown",
   "id": "520820b5-4a91-41d2-99f3-a72da2efa811",
   "metadata": {},
   "source": [
    "# 4. Top 10 hashtags used"
   ]
  },
  {
   "cell_type": "code",
   "execution_count": 27,
   "id": "18fca41b-9bce-4530-9fec-0de86ce2e860",
   "metadata": {},
   "outputs": [
    {
     "data": {
      "text/plain": [
       "'12'"
      ]
     },
     "execution_count": 27,
     "metadata": {},
     "output_type": "execute_result"
    }
   ],
   "source": [
    "s = \"aab dasfjadsf lklklklklklklk\"\n",
    "s.find(\"a\",20)\n",
    "\n",
    "s = \"123\"\n",
    "s[:-1]"
   ]
  },
  {
   "cell_type": "code",
   "execution_count": 42,
   "id": "d0f6e1e9-8ff6-4b22-8ee2-f2449f8352be",
   "metadata": {},
   "outputs": [],
   "source": [
    "from collections import defaultdict as dd\n",
    "from time import sleep \n",
    "\n",
    "def look_for_hashtags(s):\n",
    "    hs = []\n",
    "    h = s.find(\"#\")\n",
    "    while h != -1:\n",
    "        j = s.find(\" \", h)\n",
    "        k = s.find(\"\\n\", h)\n",
    "        if k<j:\n",
    "            j = k\n",
    "        if j == -1:\n",
    "            hs.append(s[h:])\n",
    "            break\n",
    "        else:\n",
    "            hs.append(s[h:j])\n",
    "        h = s.find(\"#\", j+1)\n",
    "    return hs \n",
    "\n",
    "def most_used_hashtags(n=10):\n",
    "    hts = dd(int)\n",
    "    \n",
    "    for t in tweets:\n",
    "        for ht in look_for_hashtags(t[\"content\"]):\n",
    "            hts[ht] += 1\n",
    "    \n",
    "    top = sorted(hts.items(), key= lambda x:x[1], reverse=True)[:n]\n",
    "    return top"
   ]
  },
  {
   "cell_type": "markdown",
   "id": "f4330033-e405-491c-b122-b5d7b9d7a023",
   "metadata": {},
   "source": [
    "# Main Function"
   ]
  },
  {
   "cell_type": "code",
   "execution_count": 7,
   "id": "03b0546a-9578-4324-b3b9-56d3b1010955",
   "metadata": {},
   "outputs": [],
   "source": [
    "def main(fun=None, n=10):\n",
    "    \"\"\"You should choose what function to run\"\"\"\n",
    "    if not fun:\n",
    "        print((\"You have to choose what function to call:\" \n",
    "         \"- most_retweeted\"))\n",
    "    if fun == \"most_retweeted\":\n",
    "        return most_retweeted(n)\n",
    "    if fun == \"most_tweets_users\":\n",
    "        return most_tweets_users(n)\n",
    "    if fun == \"most_tweets_days\":\n",
    "        return most_tweets_days(n)\n",
    "    if fun == \"most_used_hashtags\":\n",
    "        return most_used_hashtags(n)"
   ]
  },
  {
   "cell_type": "code",
   "execution_count": 43,
   "id": "9ab4ba91-015c-444c-b459-d45a61f4c8b1",
   "metadata": {},
   "outputs": [],
   "source": [
    "main(\"most_retweeted\")\n",
    "main(\"most_tweets_users\")\n",
    "main(\"most_tweets_days\")\n",
    "main(\"most_used_hashtags\")"
   ]
  },
  {
   "cell_type": "code",
   "execution_count": null,
   "id": "c32cc6b6-3f67-403b-af37-fc71b17bb656",
   "metadata": {},
   "outputs": [],
   "source": []
  }
 ],
 "metadata": {
  "kernelspec": {
   "display_name": "Python 3 (ipykernel)",
   "language": "python",
   "name": "python3"
  },
  "language_info": {
   "codemirror_mode": {
    "name": "ipython",
    "version": 3
   },
   "file_extension": ".py",
   "mimetype": "text/x-python",
   "name": "python",
   "nbconvert_exporter": "python",
   "pygments_lexer": "ipython3",
   "version": "3.7.3"
  }
 },
 "nbformat": 4,
 "nbformat_minor": 5
}
