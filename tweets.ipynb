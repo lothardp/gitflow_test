{
 "cells": [
  {
   "cell_type": "code",
   "execution_count": 2,
   "id": "53e1ec02-0e95-40fb-a27e-0656e285a2f1",
   "metadata": {},
   "outputs": [],
   "source": [
    "import pandas as pd\n",
    "import numpy as np\n",
    "import json"
   ]
  },
  {
   "cell_type": "markdown",
   "id": "b35e0499-6468-4b6b-aa90-89bc28d15a80",
   "metadata": {
    "tags": []
   },
   "source": [
    "# Load Data\n",
    "### We load the data from the json (only required columns) and create a pandas dataframe"
   ]
  },
  {
   "cell_type": "code",
   "execution_count": 13,
   "id": "1b761c35-9232-41ca-aded-401a58984902",
   "metadata": {},
   "outputs": [],
   "source": [
    "path = \"archive/farmers-protest-tweets-2021-03-5.json\"\n",
    "tweets = []\n",
    "with open(path, \"r\") as f:\n",
    "    for l in f.readlines():\n",
    "        t = json.loads(l)\n",
    "        clean_t = {\n",
    "            \"url\": t[\"url\"],\n",
    "            \"date\": t[\"date\"],\n",
    "            \"content\": t[\"content\"],\n",
    "            \"username\": t[\"user\"][\"username\"],\n",
    "            \"userid\": t[\"user\"][\"id\"],\n",
    "            \"retweetCount\": t[\"retweetCount\"]\n",
    "        }\n",
    "        tweets.append(clean_t)        "
   ]
  },
  {
   "cell_type": "code",
   "execution_count": 15,
   "id": "87a4b29f-31b6-4ece-be2f-cdd60eae002f",
   "metadata": {},
   "outputs": [],
   "source": [
    "df = pd.DataFrame(tweets)"
   ]
  },
  {
   "cell_type": "code",
   "execution_count": null,
   "id": "c32cc6b6-3f67-403b-af37-fc71b17bb656",
   "metadata": {},
   "outputs": [],
   "source": []
  }
 ],
 "metadata": {
  "kernelspec": {
   "display_name": "Python 3 (ipykernel)",
   "language": "python",
   "name": "python3"
  },
  "language_info": {
   "codemirror_mode": {
    "name": "ipython",
    "version": 3
   },
   "file_extension": ".py",
   "mimetype": "text/x-python",
   "name": "python",
   "nbconvert_exporter": "python",
   "pygments_lexer": "ipython3",
   "version": "3.7.3"
  }
 },
 "nbformat": 4,
 "nbformat_minor": 5
}
