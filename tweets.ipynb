{
 "cells": [
  {
   "cell_type": "code",
   "execution_count": 41,
   "id": "53e1ec02-0e95-40fb-a27e-0656e285a2f1",
   "metadata": {},
   "outputs": [],
   "source": [
    "import pandas as pd\n",
    "import numpy as np\n",
    "import json"
   ]
  },
  {
   "cell_type": "markdown",
   "id": "b35e0499-6468-4b6b-aa90-89bc28d15a80",
   "metadata": {
    "tags": []
   },
   "source": [
    "# Load Data\n",
    "### We load the data from the json (only required columns) and create a pandas dataframe"
   ]
  },
  {
   "cell_type": "code",
   "execution_count": 36,
   "id": "1b761c35-9232-41ca-aded-401a58984902",
   "metadata": {},
   "outputs": [],
   "source": [
    "path = \"archive/farmers-protest-tweets-2021-03-5.json\"\n",
    "tweets = []\n",
    "with open(path, \"r\") as f:\n",
    "    for l in f.readlines():\n",
    "        t = json.loads(l)\n",
    "        clean_t = {\n",
    "            \"url\": t[\"url\"],\n",
    "            \"date\": t[\"date\"],\n",
    "            \"content\": t[\"content\"],\n",
    "            \"username\": t[\"user\"][\"username\"],\n",
    "            \"userid\": t[\"user\"][\"id\"],\n",
    "            \"retweetCount\": t[\"retweetCount\"]\n",
    "        }\n",
    "        tweets.append(clean_t)        "
   ]
  },
  {
   "cell_type": "code",
   "execution_count": 37,
   "id": "87a4b29f-31b6-4ece-be2f-cdd60eae002f",
   "metadata": {},
   "outputs": [],
   "source": [
    "df = pd.DataFrame(tweets)"
   ]
  },
  {
   "cell_type": "markdown",
   "id": "f2569cf6-e295-45f7-b90d-64ce54009bcf",
   "metadata": {},
   "source": [
    "# 1. Top 10 most retweeted tweets"
   ]
  },
  {
   "cell_type": "code",
   "execution_count": 38,
   "id": "a916cfef-e23d-4762-a2d7-24deef0994c3",
   "metadata": {},
   "outputs": [],
   "source": [
    "def most_retweeted(n=10):\n",
    "    return df.sort_values(\"retweetCount\", ascending=False).head(10)"
   ]
  },
  {
   "cell_type": "markdown",
   "id": "598dddcd-9fd5-48ba-a006-60083a8afd71",
   "metadata": {},
   "source": [
    "# 2. Top 10 users by tweet quantity"
   ]
  },
  {
   "cell_type": "code",
   "execution_count": 102,
   "id": "4bc25048-af4f-47be-bb79-7cf084a5b4e6",
   "metadata": {},
   "outputs": [
    {
     "data": {
      "text/plain": [
       "username\n",
       "harjot_tweeting    7134\n",
       "tasveersandhu      2091\n",
       "shells_n_petals    1991\n",
       "jot__b             1841\n",
       "rebelpacifist      1806\n",
       "rumsomal           1722\n",
       "Iamjazzie96        1502\n",
       "Jass_k_G           1460\n",
       "DigitalKisanBot    1453\n",
       "z_khalique007      1446\n",
       "Name: url, dtype: int64"
      ]
     },
     "execution_count": 102,
     "metadata": {},
     "output_type": "execute_result"
    }
   ],
   "source": [
    "def most_tweets_user(n=10):\n",
    "    userid = df.groupby(\"userid\").count().sort_values(\"url\", ascending=False).index[0:n]\n",
    "    return df[df[\"userid\"].isin(userid)].groupby(\"username\").count().sort_values(\"url\", ascending=False)[\"url\"]\n",
    "\n",
    "most_tweets_user()"
   ]
  },
  {
   "cell_type": "markdown",
   "id": "f4330033-e405-491c-b122-b5d7b9d7a023",
   "metadata": {},
   "source": [
    "# Main Function"
   ]
  },
  {
   "cell_type": "code",
   "execution_count": 91,
   "id": "03b0546a-9578-4324-b3b9-56d3b1010955",
   "metadata": {},
   "outputs": [],
   "source": [
    "def main(fun=None, n=10):\n",
    "    if not fun:\n",
    "        print((\"You have to choose what function to call:\" \n",
    "         \"- most_retweeted\"))\n",
    "    if fun == \"most_retweeted\":\n",
    "        return most_retweeted(n)\n",
    "    if fun == \"most_tweets_user\":\n",
    "        return most_tweets_user()"
   ]
  },
  {
   "cell_type": "code",
   "execution_count": 92,
   "id": "9ab4ba91-015c-444c-b459-d45a61f4c8b1",
   "metadata": {},
   "outputs": [
    {
     "data": {
      "text/plain": [
       "Int64Index([ 980633168981061632,            69027875,          2930682630,\n",
       "                      452391771, 1354532795847073796,            48085084,\n",
       "             872085660886282240, 1340186972615307264, 1309302936317636608,\n",
       "             921732117024919552],\n",
       "           dtype='int64', name='userid')"
      ]
     },
     "execution_count": 92,
     "metadata": {},
     "output_type": "execute_result"
    }
   ],
   "source": [
    "main(\"most_tweets_user\")"
   ]
  },
  {
   "cell_type": "code",
   "execution_count": null,
   "id": "c32cc6b6-3f67-403b-af37-fc71b17bb656",
   "metadata": {},
   "outputs": [],
   "source": []
  }
 ],
 "metadata": {
  "kernelspec": {
   "display_name": "Python 3 (ipykernel)",
   "language": "python",
   "name": "python3"
  },
  "language_info": {
   "codemirror_mode": {
    "name": "ipython",
    "version": 3
   },
   "file_extension": ".py",
   "mimetype": "text/x-python",
   "name": "python",
   "nbconvert_exporter": "python",
   "pygments_lexer": "ipython3",
   "version": "3.7.3"
  }
 },
 "nbformat": 4,
 "nbformat_minor": 5
}
